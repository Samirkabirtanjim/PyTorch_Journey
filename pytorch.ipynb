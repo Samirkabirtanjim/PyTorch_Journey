{
 "cells": [
  {
   "cell_type": "code",
   "execution_count": 1,
   "metadata": {
    "colab": {
     "base_uri": "https://localhost:8080/"
    },
    "id": "JggvG5xZ2-Xe",
    "outputId": "c5d476df-d595-4779-9d3a-0de7ae18d7b0"
   },
   "outputs": [
    {
     "name": "stdout",
     "output_type": "stream",
     "text": [
      "2.4.1\n",
      "True\n"
     ]
    }
   ],
   "source": [
    "import torch\n",
    "print(torch.__version__)\n",
    "print(torch.cuda.is_available())"
   ]
  },
  {
   "cell_type": "markdown",
   "metadata": {
    "id": "_iTtf12iD1iI"
   },
   "source": [
    "**Creating Tensors**"
   ]
  },
  {
   "cell_type": "markdown",
   "metadata": {
    "id": "8FOGORMSMWfo"
   },
   "source": [
    "Create a tensor from existing data"
   ]
  },
  {
   "cell_type": "code",
   "execution_count": 2,
   "metadata": {
    "colab": {
     "base_uri": "https://localhost:8080/"
    },
    "id": "5MwX0CwFD1N5",
    "outputId": "638462b3-2a0e-4f67-fbe2-d289c1e1646f"
   },
   "outputs": [
    {
     "name": "stdout",
     "output_type": "stream",
     "text": [
      "tensor([2, 1, 1])\n"
     ]
    }
   ],
   "source": [
    "# Converting List into 1D tensor\n",
    "\n",
    "data = [2,1,1]\n",
    "convert = torch.tensor(data)\n",
    "print(convert)"
   ]
  },
  {
   "cell_type": "markdown",
   "metadata": {
    "id": "Jp2OB3lbMUpm"
   },
   "source": [
    "Create a tensor filled with zeros"
   ]
  },
  {
   "cell_type": "code",
   "execution_count": 3,
   "metadata": {
    "colab": {
     "base_uri": "https://localhost:8080/"
    },
    "id": "-xcr8Jz8E_YX",
    "outputId": "9ffb123d-3b9c-4b8b-9f9e-107e5eefc516"
   },
   "outputs": [
    {
     "name": "stdout",
     "output_type": "stream",
     "text": [
      "tensor([[0., 0., 0., 0.],\n",
      "        [0., 0., 0., 0.],\n",
      "        [0., 0., 0., 0.]])\n"
     ]
    }
   ],
   "source": [
    "zero = torch.zeros(3,4)\n",
    "print(zero)"
   ]
  },
  {
   "cell_type": "markdown",
   "metadata": {
    "id": "dMP1IZy6MSoW"
   },
   "source": [
    "Create a tensor filled with ones"
   ]
  },
  {
   "cell_type": "code",
   "execution_count": 4,
   "metadata": {
    "colab": {
     "base_uri": "https://localhost:8080/"
    },
    "id": "F54Hi2V8FPWP",
    "outputId": "b26941a4-3733-49f7-e9d0-a733c2bb3f05"
   },
   "outputs": [
    {
     "name": "stdout",
     "output_type": "stream",
     "text": [
      "tensor([[1., 1., 1.],\n",
      "        [1., 1., 1.]])\n"
     ]
    }
   ],
   "source": [
    "one = torch.ones(2,3)\n",
    "print(one)"
   ]
  },
  {
   "cell_type": "markdown",
   "metadata": {
    "id": "VaJbNc4wMQH1"
   },
   "source": [
    "Create a tensor with random values between 0 and 1"
   ]
  },
  {
   "cell_type": "code",
   "execution_count": 5,
   "metadata": {
    "colab": {
     "base_uri": "https://localhost:8080/"
    },
    "id": "04dXta3-FYJr",
    "outputId": "946e0be1-446e-4463-fe10-d725709ff720"
   },
   "outputs": [
    {
     "name": "stdout",
     "output_type": "stream",
     "text": [
      "tensor([[0.0290, 0.8043, 0.0487],\n",
      "        [0.6586, 0.8061, 0.6677]])\n"
     ]
    }
   ],
   "source": [
    "# filled with random numbers uniformly sampled between 0 and 1.\n",
    "random = torch.rand(2,3)\n",
    "print(random)"
   ]
  },
  {
   "cell_type": "markdown",
   "metadata": {
    "id": "-ZsDupVXMN82"
   },
   "source": [
    "Create an uninitialized tensor"
   ]
  },
  {
   "cell_type": "code",
   "execution_count": 6,
   "metadata": {
    "colab": {
     "base_uri": "https://localhost:8080/"
    },
    "id": "xe1ljcd5GCQv",
    "outputId": "648bdb93-4969-4106-b280-99b5a73a537c"
   },
   "outputs": [
    {
     "name": "stdout",
     "output_type": "stream",
     "text": [
      "tensor([[0., 0., 0., 0.],\n",
      "        [0., 0., 0., 0.]])\n"
     ]
    }
   ],
   "source": [
    "notInitialliziedNow = torch.empty(2,4)\n",
    "print(notInitialliziedNow)"
   ]
  },
  {
   "cell_type": "markdown",
   "metadata": {
    "id": "J4ayQrEcMKd9"
   },
   "source": [
    "Create a tensor with a range of values"
   ]
  },
  {
   "cell_type": "code",
   "execution_count": 7,
   "metadata": {
    "colab": {
     "base_uri": "https://localhost:8080/"
    },
    "id": "nkK1qzKqG4Fv",
    "outputId": "63c22f95-2941-4f98-98c9-912478ab3a38"
   },
   "outputs": [
    {
     "name": "stdout",
     "output_type": "stream",
     "text": [
      "tensor([5, 6, 7, 8, 9])\n"
     ]
    }
   ],
   "source": [
    "tensor_arange = torch.arange(5,10)\n",
    "print(tensor_arange)"
   ]
  },
  {
   "cell_type": "markdown",
   "metadata": {
    "id": "XmtYtB1fMH5G"
   },
   "source": [
    "Create a tensor with linearly spaced values"
   ]
  },
  {
   "cell_type": "code",
   "execution_count": 8,
   "metadata": {
    "colab": {
     "base_uri": "https://localhost:8080/"
    },
    "id": "w-jRMib6Lct4",
    "outputId": "bfeda0c5-4352-4c3b-936a-186a2bcccdf8"
   },
   "outputs": [
    {
     "name": "stdout",
     "output_type": "stream",
     "text": [
      "tensor([1.0000, 1.2500, 1.5000, 1.7500, 2.0000])\n"
     ]
    }
   ],
   "source": [
    "tensor_linspace = torch.linspace(1,2,steps=5)\n",
    "print(tensor_linspace)"
   ]
  },
  {
   "cell_type": "markdown",
   "metadata": {
    "id": "-HVhDQneMFsP"
   },
   "source": [
    "Create an identity matrix"
   ]
  },
  {
   "cell_type": "code",
   "execution_count": 9,
   "metadata": {
    "colab": {
     "base_uri": "https://localhost:8080/"
    },
    "id": "UYfpkUR0MEew",
    "outputId": "930c77eb-0a16-4497-a945-46e3df68b1f0"
   },
   "outputs": [
    {
     "name": "stdout",
     "output_type": "stream",
     "text": [
      "tensor([[1., 0., 0.],\n",
      "        [0., 1., 0.],\n",
      "        [0., 0., 1.]])\n"
     ]
    }
   ],
   "source": [
    "identity_matrix = torch.eye(3)\n",
    "print(identity_matrix)"
   ]
  },
  {
   "cell_type": "markdown",
   "metadata": {
    "id": "o9sQeDTyV27w"
   },
   "source": [
    "**Basic Tensor Operations**"
   ]
  },
  {
   "cell_type": "markdown",
   "metadata": {
    "id": "2FhLGxJSWRLf"
   },
   "source": [
    "Reshaping Tensors"
   ]
  },
  {
   "cell_type": "code",
   "execution_count": 10,
   "metadata": {
    "colab": {
     "base_uri": "https://localhost:8080/"
    },
    "id": "_xwLB83LWR__",
    "outputId": "20610dcb-b8ae-4aea-d9e4-a462eff9fcc1"
   },
   "outputs": [
    {
     "name": "stdout",
     "output_type": "stream",
     "text": [
      "tensor([[1, 2, 3],\n",
      "        [4, 5, 6],\n",
      "        [7, 8, 9]])\n"
     ]
    }
   ],
   "source": [
    "num = [1,2,3,4,5,6,7,8,9]\n",
    "into_tensor = torch.tensor(num)\n",
    "\n",
    "reshape = into_tensor.view(3,3)\n",
    "print(reshape)"
   ]
  },
  {
   "cell_type": "markdown",
   "metadata": {
    "id": "e5RGbLvUW8jW"
   },
   "source": [
    "Indexing"
   ]
  },
  {
   "cell_type": "code",
   "execution_count": 11,
   "metadata": {
    "colab": {
     "base_uri": "https://localhost:8080/"
    },
    "id": "6K1Bra3ZYXP3",
    "outputId": "e1da857c-5d7f-43ec-d583-8009e71953a5"
   },
   "outputs": [
    {
     "name": "stdout",
     "output_type": "stream",
     "text": [
      "tensor([[1, 2, 3],\n",
      "        [4, 5, 6]])\n",
      "\n",
      "Specific Element: tensor(3)\n",
      "\n",
      "First Row: tensor([1, 2, 3])\n"
     ]
    }
   ],
   "source": [
    "array = torch.tensor([[1,2,3],[4,5,6]])\n",
    "print(array)\n",
    "\n",
    "print(\"\\nSpecific Element:\",array[0,2])\n",
    "\n",
    "print(\"\\nFirst Row:\",array[0,:])"
   ]
  },
  {
   "cell_type": "markdown",
   "metadata": {
    "id": "1kyvwZbpdrjP"
   },
   "source": [
    "Element-wise Operations"
   ]
  },
  {
   "cell_type": "code",
   "execution_count": 12,
   "metadata": {
    "colab": {
     "base_uri": "https://localhost:8080/"
    },
    "id": "GgvtMp0ylBxd",
    "outputId": "a014b196-f451-4293-ef6e-a3697a3bb9f1"
   },
   "outputs": [
    {
     "name": "stdout",
     "output_type": "stream",
     "text": [
      "tensor([[ 8, 10, 12],\n",
      "        [ 5,  7,  9]])\n",
      "tensor([[ 7, 16, 27],\n",
      "        [ 4, 10, 18]])\n"
     ]
    }
   ],
   "source": [
    "num1 = torch.tensor([[1,2,3],[4,5,6]])\n",
    "num2 = torch.tensor([[7,8,9],[1,2,3]])\n",
    "\n",
    "sum = torch.add(num1,num2)\n",
    "print(sum)\n",
    "\n",
    "mul = torch.mul(num1,num2)\n",
    "print(mul)"
   ]
  },
  {
   "cell_type": "markdown",
   "metadata": {
    "id": "w36goN7FmbHw"
   },
   "source": [
    "Moving Tensors to GPU"
   ]
  },
  {
   "cell_type": "code",
   "execution_count": 13,
   "metadata": {
    "colab": {
     "base_uri": "https://localhost:8080/"
    },
    "id": "NhoQ4LRBma2S",
    "outputId": "6f1a7be3-a9d2-451c-9520-ab63b09681ef"
   },
   "outputs": [
    {
     "name": "stdout",
     "output_type": "stream",
     "text": [
      "cuda\n",
      "tensor([[1, 2, 3],\n",
      "        [4, 5, 6]], device='cuda:0')\n",
      "tensor([[1, 2, 3],\n",
      "        [4, 5, 6]])\n"
     ]
    }
   ],
   "source": [
    "device = torch.device('cuda' if torch.cuda.is_available() else 'cpu')\n",
    "print(device)\n",
    "\n",
    "torch_cpu = torch.tensor([[1,2,3],[4,5,6]])\n",
    "gpu = torch_cpu.to(device)\n",
    "\n",
    "print(gpu)\n",
    "\n",
    "cpu = torch_cpu.to('cpu')\n",
    "print(cpu)"
   ]
  },
  {
   "cell_type": "markdown",
   "metadata": {
    "id": "R3Lj1FmpoUL6"
   },
   "source": [
    "**Tensors**"
   ]
  },
  {
   "cell_type": "code",
   "execution_count": 14,
   "metadata": {
    "id": "rEB-OmwOonwR"
   },
   "outputs": [],
   "source": [
    "import torch\n",
    "import numpy as np"
   ]
  },
  {
   "cell_type": "markdown",
   "metadata": {
    "id": "0EF-afH9uh0d"
   },
   "source": [
    "Tensors to NumPy Arrays"
   ]
  },
  {
   "cell_type": "code",
   "execution_count": 15,
   "metadata": {
    "colab": {
     "base_uri": "https://localhost:8080/"
    },
    "id": "vPS4pqd9uhkN",
    "outputId": "4d37e5e2-4d13-4f0f-b82f-edbbbcbeee7b"
   },
   "outputs": [
    {
     "name": "stdout",
     "output_type": "stream",
     "text": [
      "tensor([1, 2, 3])\n",
      "Convert into numpy [1 2 3]\n",
      "\n",
      "Changing value\n",
      "\n",
      "tensor([1, 1, 3])\n",
      "[1 1 3]\n"
     ]
    }
   ],
   "source": [
    "tensor_array = torch.tensor([1,2,3])\n",
    "print(tensor_array)\n",
    "convert = tensor_array.numpy()\n",
    "print(\"Convert into numpy\",convert)\n",
    "\n",
    "# both are on cpu as tensor are not on cuda\n",
    "print(\"\\nChanging value\\n\")\n",
    "tensor_array[1] = 1\n",
    "print(tensor_array)\n",
    "print(convert)"
   ]
  },
  {
   "cell_type": "code",
   "execution_count": null,
   "metadata": {
    "colab": {
     "base_uri": "https://localhost:8080/"
    },
    "id": "pKaUvf5U2pnQ",
    "outputId": "19266192-dc68-4b9a-9f7d-9dbe3245491a"
   },
   "outputs": [
    {
     "name": "stdout",
     "output_type": "stream",
     "text": [
      "cuda\n",
      "tensor([1, 1, 3], device='cuda:0')\n",
      "tensor([1, 2, 3], device='cuda:0')\n",
      "\n",
      "[1 1 3]\n"
     ]
    }
   ],
   "source": [
    "# now let see what if we change the env of the tensor cpu to gpu\n",
    "\n",
    "device = torch.device('cuda' if torch.cuda.is_available() else 'cpu')\n",
    "print(device)\n",
    "\n",
    "convert_tensor_cpu_to_gpu = tensor_array.to(device)\n",
    "print(convert_tensor_cpu_to_gpu)\n",
    "\n",
    "# checking if the array element is changes not\n",
    "convert_tensor_cpu_to_gpu[1] = 2\n",
    "print(convert_tensor_cpu_to_gpu)\n",
    "print()\n",
    "print(convert)"
   ]
  },
  {
   "cell_type": "markdown",
   "metadata": {},
   "source": [
    "Convert the NumPy array to a PyTorch tensor"
   ]
  },
  {
   "cell_type": "code",
   "execution_count": 17,
   "metadata": {},
   "outputs": [
    {
     "name": "stdout",
     "output_type": "stream",
     "text": [
      "[2 1 1]\n",
      "tensor([2, 1, 1], dtype=torch.int32)\n"
     ]
    }
   ],
   "source": [
    "data = [2,1,1]\n",
    "\n",
    "np_array = np.array(data)\n",
    "print(np_array)\n",
    "\n",
    "tensor = torch.from_numpy(np_array)\n",
    "print(tensor)"
   ]
  },
  {
   "cell_type": "markdown",
   "metadata": {},
   "source": [
    "Attributes of a Tensor"
   ]
  },
  {
   "cell_type": "code",
   "execution_count": 18,
   "metadata": {},
   "outputs": [
    {
     "name": "stdout",
     "output_type": "stream",
     "text": [
      "Shape of tensor:  torch.Size([3])\n",
      "Data Type of tensor:  torch.int32\n",
      "Device tensor is stored on:  cpu\n"
     ]
    }
   ],
   "source": [
    "print(\"Shape of tensor: \", tensor.shape)\n",
    "print(\"Data Type of tensor: \", tensor.dtype)\n",
    "print(\"Device tensor is stored on: \", tensor.device)"
   ]
  },
  {
   "cell_type": "code",
   "execution_count": 19,
   "metadata": {},
   "outputs": [],
   "source": [
    "if torch.cuda.is_available():\n",
    "    tensor = tensor.to('cuda')"
   ]
  },
  {
   "cell_type": "code",
   "execution_count": 20,
   "metadata": {},
   "outputs": [
    {
     "name": "stdout",
     "output_type": "stream",
     "text": [
      "Device tensor is stored on:  cuda:0\n"
     ]
    }
   ],
   "source": [
    "print(\"Device tensor is stored on: \", tensor.device)"
   ]
  }
 ],
 "metadata": {
  "colab": {
   "provenance": []
  },
  "kernelspec": {
   "display_name": "cuda_test",
   "language": "python",
   "name": "python3"
  },
  "language_info": {
   "codemirror_mode": {
    "name": "ipython",
    "version": 3
   },
   "file_extension": ".py",
   "mimetype": "text/x-python",
   "name": "python",
   "nbconvert_exporter": "python",
   "pygments_lexer": "ipython3",
   "version": "3.8.20"
  }
 },
 "nbformat": 4,
 "nbformat_minor": 0
}
